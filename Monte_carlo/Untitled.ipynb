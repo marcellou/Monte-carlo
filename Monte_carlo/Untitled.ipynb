{
 "cells": [
  {
   "cell_type": "code",
   "execution_count": 4,
   "metadata": {},
   "outputs": [],
   "source": [
    "import pandas_datareader.data as web\n",
    "import pandas as pd\n",
    "import datetime as dt\n",
    "import numpy as np\n",
    "import matplotlib.pyplot as plt\n",
    "from matplotlib import style"
   ]
  },
  {
   "cell_type": "code",
   "execution_count": 5,
   "metadata": {},
   "outputs": [],
   "source": [
    "style.use('ggplot')"
   ]
  },
  {
   "cell_type": "code",
   "execution_count": 6,
   "metadata": {},
   "outputs": [],
   "source": [
    "start = dt.datetime(2017, 1, 3)\n",
    "end = dt.datetime(2017, 11, 20)"
   ]
  },
  {
   "cell_type": "code",
   "execution_count": 7,
   "metadata": {},
   "outputs": [],
   "source": [
    "prices = web.DataReader('AAPL', 'yahoo', start, end)['Close']"
   ]
  },
  {
   "cell_type": "code",
   "execution_count": 8,
   "metadata": {},
   "outputs": [],
   "source": [
    "returns = prices.pct_change()"
   ]
  },
  {
   "cell_type": "code",
   "execution_count": 9,
   "metadata": {},
   "outputs": [],
   "source": [
    "last_price = prices[-1]"
   ]
  },
  {
   "cell_type": "code",
   "execution_count": 10,
   "metadata": {},
   "outputs": [],
   "source": [
    "num_simulations = 1000 \n",
    "num_days = 252"
   ]
  },
  {
   "cell_type": "code",
   "execution_count": 11,
   "metadata": {},
   "outputs": [],
   "source": [
    "simulation_df = pd.DataFrame()"
   ]
  },
  {
   "cell_type": "code",
   "execution_count": 12,
   "metadata": {},
   "outputs": [],
   "source": [
    "for x in range(num_simulations):\n",
    "    count = 0\n",
    "    daily_vol = returns.std()"
   ]
  },
  {
   "cell_type": "code",
   "execution_count": 13,
   "metadata": {},
   "outputs": [],
   "source": [
    "price_series = []"
   ]
  },
  {
   "cell_type": "code",
   "execution_count": 14,
   "metadata": {},
   "outputs": [],
   "source": [
    "price = last_price * (1 + np.random.normal(0, daily_vol))\n",
    "price_series.append(price)    "
   ]
  },
  {
   "cell_type": "code",
   "execution_count": 15,
   "metadata": {},
   "outputs": [],
   "source": [
    "for y in range(num_days):\n",
    "    if count == 251:\n",
    "        break\n",
    "    price = price_series[count] * (1 + np.random.normal(0, daily_vol))\n",
    "    price_series.append(price)\n",
    "    count += 1"
   ]
  },
  {
   "cell_type": "code",
   "execution_count": 16,
   "metadata": {},
   "outputs": [],
   "source": [
    "simulation_df[x] = price_series"
   ]
  },
  {
   "cell_type": "code",
   "execution_count": 17,
   "metadata": {},
   "outputs": [
    {
     "data": {
      "image/png": "[encoded data removed]",
      "text/plain": [
       "<Figure size 432x288 with 1 Axes>"
      ]
     },
     "metadata": {},
     "output_type": "display_data"
    }
   ],
   "source": [
    "fig = plt.figure()\n",
    "fig.suptitle('Monte Carlo SIM')\n",
    "plt.plot(simulation_df)\n",
    "plt.axhline(y = last_price, color = 'r')\n",
    "plt.xlabel('Day')\n",
    "plt.ylabel('Price')\n",
    "plt.show()"
   ]
  },
  {
   "cell_type": "code",
   "execution_count": 18,
   "metadata": {},
   "outputs": [
    {
     "data": {
      "text/plain": [
       "'en_US.UTF-8'"
      ]
     },
     "execution_count": 18,
     "metadata": {},
     "output_type": "execute_result"
    }
   ],
   "source": [
    "import numpy as np\n",
    "from pandas import Series, DataFrame\n",
    "%matplotlib inline\n",
    "import matplotlib.pyplot as plots\n",
    "import locale\n",
    "locale.setlocale(locale.LC_ALL, '')"
   ]
  },
  {
   "cell_type": "code",
   "execution_count": 19,
   "metadata": {},
   "outputs": [
    {
     "name": "stdout",
     "output_type": "stream",
     "text": [
      "$20,700.00\n",
      "$32,149.00\n",
      "$44,399.43\n",
      "$57,507.39\n",
      "$71,532.91\n",
      "$86,540.21\n",
      "$102,598.03\n",
      "$119,779.89\n",
      "$138,164.48\n",
      "$157,835.99\n",
      "$178,884.51\n",
      "$201,406.43\n",
      "$225,504.88\n",
      "$251,290.22\n",
      "$278,880.54\n",
      "$308,402.17\n",
      "$339,990.33\n",
      "$373,789.65\n",
      "$409,954.92\n",
      "$448,651.77\n",
      "$490,057.39\n",
      "$534,361.41\n",
      "$581,766.71\n",
      "$632,490.38\n",
      "$686,764.70\n",
      "$744,838.23\n",
      "$806,976.91\n",
      "$873,465.29\n",
      "$944,607.86\n",
      "$1,020,730.41\n"
     ]
    }
   ],
   "source": [
    "pv = 10000\n",
    "time_horizon = 30\n",
    "i =.07\n",
    "additions = 10000\n",
    "\n",
    "for year in range(time_horizon):\n",
    "    ending = pv * (1+i) + additions\n",
    "    print(locale.currency(ending, grouping=True))\n",
    "    pv = ending"
   ]
  },
  {
   "cell_type": "code",
   "execution_count": 20,
   "metadata": {},
   "outputs": [
    {
     "name": "stdout",
     "output_type": "stream",
     "text": [
      "\tReturn     \t\tEnding Value\n",
      "\t0.9851               \t$11,985.11\n",
      "\t0.5757               \t$28,884.66\n",
      "\t0.8292               \t$62,834.56\n",
      "\t0.8818               \t$128,245.10\n",
      "\t0.8184               \t$243,205.67\n",
      "\t0.8707               \t$464,975.60\n",
      "\t0.716               \t$807,890.11\n",
      "\t1.0513               \t$1,667,248.01\n",
      "\t0.7754               \t$2,969,974.72\n",
      "\t0.9245               \t$5,725,819.89\n",
      "\t1.0986               \t$12,026,064.15\n",
      "\t1.0484               \t$24,644,445.84\n",
      "\t1.0549               \t$50,652,026.44\n",
      "\t0.5837               \t$80,225,198.50\n",
      "\t1.0196               \t$162,035,935.69\n",
      "\t0.6998               \t$275,437,390.75\n",
      "\t0.9259               \t$530,483,881.17\n",
      "\t0.9016               \t$1,008,755,654.18\n",
      "\t0.7933               \t$1,808,964,414.67\n",
      "\t1.0821               \t$3,766,447,467.75\n",
      "\t0.707               \t$6,429,252,425.24\n",
      "\t1.2676               \t$14,578,847,658.76\n",
      "\t1.2458               \t$32,741,871,061.24\n",
      "\t1.0538               \t$67,245,454,000.56\n",
      "\t0.9414               \t$130,549,444,958.73\n",
      "\t1.0062               \t$261,904,258,875.61\n",
      "\t0.7232               \t$451,318,952,712.09\n",
      "\t0.613               \t$727,981,655,110.82\n",
      "\t0.701               \t$1,238,302,884,492.20\n",
      "\t0.527               \t$1,890,861,154,938.17\n"
     ]
    }
   ],
   "source": [
    "pv = 1000\n",
    "expected_return = 0.9\n",
    "volatility = .18\n",
    "time_horizon = 30\n",
    "annual_addition = 10000\n",
    "\n",
    "print('\\tReturn', '\\t\\tEnding Value'.rjust(18))\n",
    "for year in range(time_horizon):\n",
    "    market_return = np.random.normal(expected_return, volatility)\n",
    "    fv = pv * (1 + market_return) + annual_addition\n",
    "    print('\\t{}'.ljust(10).format(round(market_return,4)), '\\t{}'.rjust(10).format(locale.currency(fv, grouping=True)))\n",
    "    pv = fv"
   ]
  },
  {
   "cell_type": "markdown",
   "metadata": {},
   "source": [
    "### Simulate portfolio ending market value"
   ]
  },
  {
   "cell_type": "code",
   "execution_count": 21,
   "metadata": {},
   "outputs": [],
   "source": [
    "sim = DataFrame()\n",
    "iterations = 5000\n",
    "\n",
    "for x in range(iterations):\n",
    "    expected_return = .09\n",
    "    volatility - .18\n",
    "    time_horizon = 30\n",
    "    pv = 10000\n",
    "    annual_investment = 10000\n",
    "    stream = []\n",
    "    for i in range(time_horizon):\n",
    "        end = round(pv * (1 + np.random.normal(expected_return, volatility)) + annual_investment, 2)\n",
    "        \n",
    "        stream.append(end)\n",
    "        pv = end\n",
    "        \n",
    "    sim[x] = stream"
   ]
  },
  {
   "cell_type": "code",
   "execution_count": 22,
   "metadata": {},
   "outputs": [
    {
     "data": {
      "text/html": [
       "<div>\n",
       "<style scoped>\n",
       "    .dataframe tbody tr th:only-of-type {\n",
       "        vertical-align: middle;\n",
       "    }\n",
       "\n",
       "    .dataframe tbody tr th {\n",
       "        vertical-align: top;\n",
       "    }\n",
       "\n",
       "    .dataframe thead th {\n",
       "        text-align: right;\n",
       "    }\n",
       "</style>\n",
       "<table border=\"1\" class=\"dataframe\">\n",
       "  <thead>\n",
       "    <tr style=\"text-align: right;\">\n",
       "      <th></th>\n",
       "      <th>0</th>\n",
       "      <th>1</th>\n",
       "      <th>2</th>\n",
       "      <th>3</th>\n",
       "      <th>4</th>\n",
       "    </tr>\n",
       "  </thead>\n",
       "  <tbody>\n",
       "    <tr>\n",
       "      <th>0</th>\n",
       "      <td>19250.81</td>\n",
       "      <td>15402.92</td>\n",
       "      <td>18591.09</td>\n",
       "      <td>21328.28</td>\n",
       "      <td>18144.13</td>\n",
       "    </tr>\n",
       "    <tr>\n",
       "      <th>1</th>\n",
       "      <td>31817.51</td>\n",
       "      <td>26159.33</td>\n",
       "      <td>35992.19</td>\n",
       "      <td>33420.88</td>\n",
       "      <td>31291.06</td>\n",
       "    </tr>\n",
       "    <tr>\n",
       "      <th>2</th>\n",
       "      <td>49816.55</td>\n",
       "      <td>39869.48</td>\n",
       "      <td>51961.37</td>\n",
       "      <td>58786.73</td>\n",
       "      <td>35823.11</td>\n",
       "    </tr>\n",
       "    <tr>\n",
       "      <th>3</th>\n",
       "      <td>80361.75</td>\n",
       "      <td>58363.58</td>\n",
       "      <td>55203.65</td>\n",
       "      <td>81231.32</td>\n",
       "      <td>47178.04</td>\n",
       "    </tr>\n",
       "    <tr>\n",
       "      <th>4</th>\n",
       "      <td>85955.38</td>\n",
       "      <td>92700.49</td>\n",
       "      <td>61001.13</td>\n",
       "      <td>106284.19</td>\n",
       "      <td>62126.38</td>\n",
       "    </tr>\n",
       "    <tr>\n",
       "      <th>5</th>\n",
       "      <td>83329.59</td>\n",
       "      <td>112376.22</td>\n",
       "      <td>63058.08</td>\n",
       "      <td>130538.35</td>\n",
       "      <td>62576.41</td>\n",
       "    </tr>\n",
       "    <tr>\n",
       "      <th>6</th>\n",
       "      <td>96377.52</td>\n",
       "      <td>142992.33</td>\n",
       "      <td>79380.49</td>\n",
       "      <td>136029.22</td>\n",
       "      <td>93179.34</td>\n",
       "    </tr>\n",
       "    <tr>\n",
       "      <th>7</th>\n",
       "      <td>100618.01</td>\n",
       "      <td>169968.99</td>\n",
       "      <td>116248.94</td>\n",
       "      <td>166332.29</td>\n",
       "      <td>124711.18</td>\n",
       "    </tr>\n",
       "    <tr>\n",
       "      <th>8</th>\n",
       "      <td>96890.54</td>\n",
       "      <td>299580.94</td>\n",
       "      <td>138277.98</td>\n",
       "      <td>200883.52</td>\n",
       "      <td>125983.71</td>\n",
       "    </tr>\n",
       "    <tr>\n",
       "      <th>9</th>\n",
       "      <td>121990.18</td>\n",
       "      <td>369041.18</td>\n",
       "      <td>111513.28</td>\n",
       "      <td>196505.65</td>\n",
       "      <td>148138.98</td>\n",
       "    </tr>\n",
       "    <tr>\n",
       "      <th>10</th>\n",
       "      <td>105551.55</td>\n",
       "      <td>384899.26</td>\n",
       "      <td>128586.53</td>\n",
       "      <td>231928.15</td>\n",
       "      <td>159051.78</td>\n",
       "    </tr>\n",
       "    <tr>\n",
       "      <th>11</th>\n",
       "      <td>127876.71</td>\n",
       "      <td>333975.74</td>\n",
       "      <td>148319.25</td>\n",
       "      <td>288209.42</td>\n",
       "      <td>174176.90</td>\n",
       "    </tr>\n",
       "    <tr>\n",
       "      <th>12</th>\n",
       "      <td>158886.20</td>\n",
       "      <td>382720.67</td>\n",
       "      <td>174779.54</td>\n",
       "      <td>303444.97</td>\n",
       "      <td>162406.60</td>\n",
       "    </tr>\n",
       "    <tr>\n",
       "      <th>13</th>\n",
       "      <td>127494.16</td>\n",
       "      <td>525372.96</td>\n",
       "      <td>236843.22</td>\n",
       "      <td>341056.33</td>\n",
       "      <td>153290.41</td>\n",
       "    </tr>\n",
       "    <tr>\n",
       "      <th>14</th>\n",
       "      <td>199044.58</td>\n",
       "      <td>618988.28</td>\n",
       "      <td>231863.63</td>\n",
       "      <td>390974.31</td>\n",
       "      <td>180368.07</td>\n",
       "    </tr>\n",
       "    <tr>\n",
       "      <th>15</th>\n",
       "      <td>210243.00</td>\n",
       "      <td>669588.02</td>\n",
       "      <td>275308.62</td>\n",
       "      <td>553270.82</td>\n",
       "      <td>193739.25</td>\n",
       "    </tr>\n",
       "    <tr>\n",
       "      <th>16</th>\n",
       "      <td>277649.85</td>\n",
       "      <td>918716.05</td>\n",
       "      <td>292961.27</td>\n",
       "      <td>442350.38</td>\n",
       "      <td>251084.96</td>\n",
       "    </tr>\n",
       "    <tr>\n",
       "      <th>17</th>\n",
       "      <td>323768.36</td>\n",
       "      <td>1166930.21</td>\n",
       "      <td>330546.61</td>\n",
       "      <td>413296.77</td>\n",
       "      <td>193192.82</td>\n",
       "    </tr>\n",
       "    <tr>\n",
       "      <th>18</th>\n",
       "      <td>394142.91</td>\n",
       "      <td>1299261.06</td>\n",
       "      <td>375808.40</td>\n",
       "      <td>597363.24</td>\n",
       "      <td>270034.10</td>\n",
       "    </tr>\n",
       "    <tr>\n",
       "      <th>19</th>\n",
       "      <td>510294.03</td>\n",
       "      <td>1290601.06</td>\n",
       "      <td>509195.91</td>\n",
       "      <td>579643.75</td>\n",
       "      <td>298447.55</td>\n",
       "    </tr>\n",
       "    <tr>\n",
       "      <th>20</th>\n",
       "      <td>664005.78</td>\n",
       "      <td>1663256.61</td>\n",
       "      <td>605875.03</td>\n",
       "      <td>622835.88</td>\n",
       "      <td>410735.60</td>\n",
       "    </tr>\n",
       "    <tr>\n",
       "      <th>21</th>\n",
       "      <td>801326.58</td>\n",
       "      <td>1597603.84</td>\n",
       "      <td>511900.40</td>\n",
       "      <td>661349.10</td>\n",
       "      <td>358641.98</td>\n",
       "    </tr>\n",
       "    <tr>\n",
       "      <th>22</th>\n",
       "      <td>1092342.72</td>\n",
       "      <td>2276890.82</td>\n",
       "      <td>453524.20</td>\n",
       "      <td>564007.88</td>\n",
       "      <td>393508.26</td>\n",
       "    </tr>\n",
       "    <tr>\n",
       "      <th>23</th>\n",
       "      <td>1114686.01</td>\n",
       "      <td>1958713.43</td>\n",
       "      <td>534535.71</td>\n",
       "      <td>532623.45</td>\n",
       "      <td>312168.42</td>\n",
       "    </tr>\n",
       "    <tr>\n",
       "      <th>24</th>\n",
       "      <td>1373975.45</td>\n",
       "      <td>2162987.31</td>\n",
       "      <td>756957.32</td>\n",
       "      <td>507475.16</td>\n",
       "      <td>348997.82</td>\n",
       "    </tr>\n",
       "    <tr>\n",
       "      <th>25</th>\n",
       "      <td>1674018.16</td>\n",
       "      <td>1978752.70</td>\n",
       "      <td>916362.86</td>\n",
       "      <td>678690.05</td>\n",
       "      <td>322593.71</td>\n",
       "    </tr>\n",
       "    <tr>\n",
       "      <th>26</th>\n",
       "      <td>1637674.56</td>\n",
       "      <td>1514330.75</td>\n",
       "      <td>1245058.97</td>\n",
       "      <td>580039.39</td>\n",
       "      <td>301315.66</td>\n",
       "    </tr>\n",
       "    <tr>\n",
       "      <th>27</th>\n",
       "      <td>1429475.01</td>\n",
       "      <td>2030555.15</td>\n",
       "      <td>1302472.79</td>\n",
       "      <td>518304.10</td>\n",
       "      <td>397015.06</td>\n",
       "    </tr>\n",
       "    <tr>\n",
       "      <th>28</th>\n",
       "      <td>1486179.47</td>\n",
       "      <td>2203378.92</td>\n",
       "      <td>1598590.65</td>\n",
       "      <td>531181.60</td>\n",
       "      <td>533998.73</td>\n",
       "    </tr>\n",
       "    <tr>\n",
       "      <th>29</th>\n",
       "      <td>1852677.97</td>\n",
       "      <td>2321749.12</td>\n",
       "      <td>1776828.61</td>\n",
       "      <td>544146.16</td>\n",
       "      <td>449348.29</td>\n",
       "    </tr>\n",
       "  </tbody>\n",
       "</table>\n",
       "</div>"
      ],
      "text/plain": [
       "             0           1           2          3          4\n",
       "0     19250.81    15402.92    18591.09   21328.28   18144.13\n",
       "1     31817.51    26159.33    35992.19   33420.88   31291.06\n",
       "2     49816.55    39869.48    51961.37   58786.73   35823.11\n",
       "3     80361.75    58363.58    55203.65   81231.32   47178.04\n",
       "4     85955.38    92700.49    61001.13  106284.19   62126.38\n",
       "5     83329.59   112376.22    63058.08  130538.35   62576.41\n",
       "6     96377.52   142992.33    79380.49  136029.22   93179.34\n",
       "7    100618.01   169968.99   116248.94  166332.29  124711.18\n",
       "8     96890.54   299580.94   138277.98  200883.52  125983.71\n",
       "9    121990.18   369041.18   111513.28  196505.65  148138.98\n",
       "10   105551.55   384899.26   128586.53  231928.15  159051.78\n",
       "11   127876.71   333975.74   148319.25  288209.42  174176.90\n",
       "12   158886.20   382720.67   174779.54  303444.97  162406.60\n",
       "13   127494.16   525372.96   236843.22  341056.33  153290.41\n",
       "14   199044.58   618988.28   231863.63  390974.31  180368.07\n",
       "15   210243.00   669588.02   275308.62  553270.82  193739.25\n",
       "16   277649.85   918716.05   292961.27  442350.38  251084.96\n",
       "17   323768.36  1166930.21   330546.61  413296.77  193192.82\n",
       "18   394142.91  1299261.06   375808.40  597363.24  270034.10\n",
       "19   510294.03  1290601.06   509195.91  579643.75  298447.55\n",
       "20   664005.78  1663256.61   605875.03  622835.88  410735.60\n",
       "21   801326.58  1597603.84   511900.40  661349.10  358641.98\n",
       "22  1092342.72  2276890.82   453524.20  564007.88  393508.26\n",
       "23  1114686.01  1958713.43   534535.71  532623.45  312168.42\n",
       "24  1373975.45  2162987.31   756957.32  507475.16  348997.82\n",
       "25  1674018.16  1978752.70   916362.86  678690.05  322593.71\n",
       "26  1637674.56  1514330.75  1245058.97  580039.39  301315.66\n",
       "27  1429475.01  2030555.15  1302472.79  518304.10  397015.06\n",
       "28  1486179.47  2203378.92  1598590.65  531181.60  533998.73\n",
       "29  1852677.97  2321749.12  1776828.61  544146.16  449348.29"
      ]
     },
     "execution_count": 22,
     "metadata": {},
     "output_type": "execute_result"
    }
   ],
   "source": [
    "first_five = list(range(5))\n",
    "sim[first_five]"
   ]
  },
  {
   "cell_type": "code",
   "execution_count": 23,
   "metadata": {},
   "outputs": [
    {
     "data": {
      "text/plain": [
       "[<matplotlib.lines.Line2D at 0x108c26eb8>,\n",
       " <matplotlib.lines.Line2D at 0x108c2e048>,\n",
       " <matplotlib.lines.Line2D at 0x108c2e198>,\n",
       " <matplotlib.lines.Line2D at 0x108c2e2e8>,\n",
       " <matplotlib.lines.Line2D at 0x108c2e438>]"
      ]
     },
     "execution_count": 23,
     "metadata": {},
     "output_type": "execute_result"
    },
    {
     "data": {
      "image/png": "[encoded data removed]",
      "text/plain": [
       "<Figure size 1296x1080 with 1 Axes>"
      ]
     },
     "metadata": {
      "needs_background": "light"
     },
     "output_type": "display_data"
    }
   ],
   "source": [
    "from pylab import rcParams\n",
    "rcParams['figure.figsize'] = 18, 15\n",
    "plots.plot(sim[first_five])"
   ]
  },
  {
   "cell_type": "code",
   "execution_count": null,
   "metadata": {},
   "outputs": [],
   "source": [
    "\n"
   ]
  },
  {
   "cell_type": "code",
   "execution_count": 25,
   "metadata": {},
   "outputs": [
    {
     "name": "stdout",
     "output_type": "stream",
     "text": [
      "Count: 5000\n",
      "Mean: $1,498,142.64\n",
      "SD: $1,146,839.92\n",
      "Max: $13,767,307.31\n",
      "Min: $73,981.13\n"
     ]
    }
   ],
   "source": [
    "print('Count:', len(sim.loc[29]))\n",
    "print('Mean:',locale.currency(np.mean(sim.loc[29]), grouping=True))\n",
    "print('SD:',locale.currency(np.std(sim.loc[29]), grouping=True))\n",
    "print('Max:',locale.currency(np.max(sim.loc[29]), grouping = True))\n",
    "print('Min:', locale.currency(np.min(sim.loc[29]), grouping = True))\n"
   ]
  },
  {
   "cell_type": "code",
   "execution_count": 26,
   "metadata": {},
   "outputs": [
    {
     "data": {
      "text/plain": [
       "count    5.000000e+03\n",
       "mean     1.498143e+06\n",
       "std      1.146955e+06\n",
       "min      7.398113e+04\n",
       "25%      7.400658e+05\n",
       "50%      1.180588e+06\n",
       "75%      1.868327e+06\n",
       "max      1.376731e+07\n",
       "Name: 29, dtype: float64"
      ]
     },
     "execution_count": 26,
     "metadata": {},
     "output_type": "execute_result"
    }
   ],
   "source": [
    "ending_values = sim.loc[29]\n",
    "ending_values.describe() "
   ]
  },
  {
   "cell_type": "code",
   "execution_count": 28,
   "metadata": {},
   "outputs": [
    {
     "data": {
      "text/plain": [
       "(array([ 19., 130., 289., 434., 428., 410., 378., 390., 321., 287., 248.,\n",
       "        217., 182., 173., 122., 116., 103.,  89.,  69.,  73.,  46.,  55.,\n",
       "         38.,  48.,  31.,  36.,  25.,  32.,  20.,  24.,  18.,  12.,  20.,\n",
       "         11.,  11.,  12.,   7.,   6.,   6.,   9.,   4.,   3.,   2.,   5.,\n",
       "          1.,   3.,   3.,   1.,   0.,   2.,   3.,   3.,   2.,   3.,   1.,\n",
       "          1.,   3.,   0.,   3.,   0.,   1.,   5.,   0.,   1.,   0.,   0.,\n",
       "          0.,   0.,   2.,   0.,   1.,   0.,   0.,   0.,   1.,   0.,   0.,\n",
       "          0.,   0.,   0.,   0.,   0.,   0.,   0.,   0.,   0.,   0.,   0.,\n",
       "          0.,   0.,   0.,   0.,   0.,   0.,   0.,   0.,   0.,   0.,   0.,\n",
       "          1.]),\n",
       " array([   73981.13  ,   210914.3918,   347847.6536,   484780.9154,\n",
       "          621714.1772,   758647.439 ,   895580.7008,  1032513.9626,\n",
       "         1169447.2244,  1306380.4862,  1443313.748 ,  1580247.0098,\n",
       "         1717180.2716,  1854113.5334,  1991046.7952,  2127980.057 ,\n",
       "         2264913.3188,  2401846.5806,  2538779.8424,  2675713.1042,\n",
       "         2812646.366 ,  2949579.6278,  3086512.8896,  3223446.1514,\n",
       "         3360379.4132,  3497312.675 ,  3634245.9368,  3771179.1986,\n",
       "         3908112.4604,  4045045.7222,  4181978.984 ,  4318912.2458,\n",
       "         4455845.5076,  4592778.7694,  4729712.0312,  4866645.293 ,\n",
       "         5003578.5548,  5140511.8166,  5277445.0784,  5414378.3402,\n",
       "         5551311.602 ,  5688244.8638,  5825178.1256,  5962111.3874,\n",
       "         6099044.6492,  6235977.911 ,  6372911.1728,  6509844.4346,\n",
       "         6646777.6964,  6783710.9582,  6920644.22  ,  7057577.4818,\n",
       "         7194510.7436,  7331444.0054,  7468377.2672,  7605310.529 ,\n",
       "         7742243.7908,  7879177.0526,  8016110.3144,  8153043.5762,\n",
       "         8289976.838 ,  8426910.0998,  8563843.3616,  8700776.6234,\n",
       "         8837709.8852,  8974643.147 ,  9111576.4088,  9248509.6706,\n",
       "         9385442.9324,  9522376.1942,  9659309.456 ,  9796242.7178,\n",
       "         9933175.9796, 10070109.2414, 10207042.5032, 10343975.765 ,\n",
       "        10480909.0268, 10617842.2886, 10754775.5504, 10891708.8122,\n",
       "        11028642.074 , 11165575.3358, 11302508.5976, 11439441.8594,\n",
       "        11576375.1212, 11713308.383 , 11850241.6448, 11987174.9066,\n",
       "        12124108.1684, 12261041.4302, 12397974.692 , 12534907.9538,\n",
       "        12671841.2156, 12808774.4774, 12945707.7392, 13082641.001 ,\n",
       "        13219574.2628, 13356507.5246, 13493440.7864, 13630374.0482,\n",
       "        13767307.31  ]),\n",
       " <a list of 100 Patch objects>)"
      ]
     },
     "execution_count": 28,
     "metadata": {},
     "output_type": "execute_result"
    },
    {
     "data": {
      "image/png": "[encoded data removed]",
      "text/plain": [
       "<Figure size 1296x1080 with 1 Axes>"
      ]
     },
     "metadata": {
      "needs_background": "light"
     },
     "output_type": "display_data"
    }
   ],
   "source": [
    "plots.hist(ending_values, bins = 100)"
   ]
  },
  {
   "cell_type": "code",
   "execution_count": 31,
   "metadata": {},
   "outputs": [
    {
     "data": {
      "text/plain": [
       "0.5996"
      ]
     },
     "execution_count": 31,
     "metadata": {},
     "output_type": "execute_result"
    }
   ],
   "source": [
    "len(ending_values[ending_values> 1000000]) /len(ending_values)"
   ]
  },
  {
   "cell_type": "code",
   "execution_count": 35,
   "metadata": {},
   "outputs": [
    {
     "data": {
      "text/plain": [
       "0.17"
      ]
     },
     "execution_count": 35,
     "metadata": {},
     "output_type": "execute_result"
    }
   ],
   "source": [
    "len(ending_values[(ending_values> 800000) & (ending_values< 1100000)]) /len(ending_values)"
   ]
  },
  {
   "cell_type": "code",
   "execution_count": 40,
   "metadata": {},
   "outputs": [
    {
     "name": "stdout",
     "output_type": "stream",
     "text": [
      "       5%-ile:  $406,501.26\n",
      "      10%-ile:  $507,117.07\n",
      "      15%-ile:  $580,658.11\n",
      "      25%-ile:  $740,065.78\n",
      "      75%-ile:  $1,868,326.77\n",
      "      85%-ile:  $2,406,118.23\n",
      "      90%-ile:  $2,857,408.80\n",
      "      95%-ile:  $3,716,789.29\n"
     ]
    }
   ],
   "source": [
    "p_tiles = np.percentile(ending_values, [5,10,15,25,75,85,90, 95])\n",
    "for p in range(len(p_tiles)):\n",
    "    l = [5,10,15,25,75,85,90,95]\n",
    "    print('{}%-ile: '.format(l[p]).rjust(15), '{}'.format(locale.currency(p_tiles[p], grouping=True)))"
   ]
  },
  {
   "cell_type": "code",
   "execution_count": null,
   "metadata": {},
   "outputs": [],
   "source": []
  }
 ],
 "metadata": {
  "kernelspec": {
   "display_name": "Python 3",
   "language": "python",
   "name": "python3"
  },
  "language_info": {
   "codemirror_mode": {
    "name": "ipython",
    "version": 3
   },
   "file_extension": ".py",
   "mimetype": "text/x-python",
   "name": "python",
   "nbconvert_exporter": "python",
   "pygments_lexer": "ipython3",
   "version": "3.7.1"
  }
 },
 "nbformat": 4,
 "nbformat_minor": 2
}
